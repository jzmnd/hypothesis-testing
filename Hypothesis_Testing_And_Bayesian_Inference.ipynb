{
 "cells": [
  {
   "cell_type": "code",
   "execution_count": 1,
   "metadata": {
    "collapsed": true,
    "deletable": true,
    "editable": true,
    "hide_input": false
   },
   "outputs": [],
   "source": [
    "%matplotlib inline"
   ]
  },
  {
   "cell_type": "code",
   "execution_count": 2,
   "metadata": {
    "collapsed": true,
    "deletable": true,
    "editable": true,
    "hide_input": false
   },
   "outputs": [],
   "source": [
    "import matplotlib\n",
    "import matplotlib.pyplot as plt\n",
    "import seaborn as sns\n",
    "matplotlib.rcParams['savefig.dpi'] = 144"
   ]
  },
  {
   "cell_type": "code",
   "execution_count": 3,
   "metadata": {
    "collapsed": true,
    "deletable": true,
    "editable": true,
    "hide_input": false
   },
   "outputs": [],
   "source": [
    "import numpy as np\n",
    "import pandas as pd\n",
    "import itertools as it"
   ]
  },
  {
   "cell_type": "markdown",
   "metadata": {
    "deletable": true,
    "editable": true
   },
   "source": [
    "# A Comparison of Classical Hypothesis Testing and Bayesian Inference"
   ]
  },
  {
   "cell_type": "markdown",
   "metadata": {
    "deletable": true,
    "editable": true
   },
   "source": [
    "## Probability and Inference\n",
    "\n",
    "There is an important distinction between the study of probability theory and statistical inference, although both rely on the same fundamental principles.\n",
    "\n",
    "**Probability Theory:**\n",
    "1. Given a known random process with a particular distribution, what are the outcomes from that process?\n",
    "1. Model $\\rightarrow$ Data\n",
    "\n",
    "**Statistical Inference:**\n",
    "1. Given a known dataset, what is the underlying process and its distribution?\n",
    "1. Data $\\rightarrow$ Model\n",
    "\n",
    "Statistical questions are generally what we will need to answer as data scientists. Although they can be thought of as the inverse of probability questions, they are in general ill-defined (i.e. our data will not always allow us to determine a unique model). However, we can make assumptions about the underlying probability model based on our knowledge of the problem and then use statistical tests to determine the \"correctness\" of our model.\n",
    "\n",
    "Statistical inference is characterized by the fact that:\n",
    "- Our dataset will typically be a *sample* taken from the *population* and we are trying to infer something about the population.\n",
    "- Data will have errors or noise associated with how it was collected\n",
    "\n",
    "*Frequentist (or Classical) Hypothesis testing* and *Bayesian Inference* are two examples of methods for statistical inference."
   ]
  },
  {
   "cell_type": "markdown",
   "metadata": {
    "deletable": true,
    "editable": true
   },
   "source": [
    "## Classical Hypothesis Testing\n",
    "\n",
    "A statistical hypothesis is one which is testable based on data from a process than is modeled by a set of random variables. \n",
    "\n",
    "We are typically comparing two datasets, either:\n",
    "\n",
    "1. Two observed datasets (and testing their similarity)\n",
    "1. An observed dataset and a dataset generated from our proposed model (and again testing their similarity)\n",
    "\n",
    "Then the standard approach is to generate two hypotheses:\n",
    "\n",
    "1. **Alternative Hypothesis $H$:** The proposed relationship that we are investigating\n",
    "1. **Null Hypothesis $H_0$:** That there is no relationship of the form of our proposition between the two datasets"
   ]
  },
  {
   "cell_type": "markdown",
   "metadata": {
    "deletable": true,
    "editable": true
   },
   "source": [
    "### $p$-values and determining significance\n",
    "\n",
    "We want to determine whether we can reject the null hypotheses. To do this in the case of significance testing we follow these steps. *Note* that this is not the only way to do hypothesis testing and we can also use a Bayesian approach to testing.\n",
    "\n",
    "1. We then choose our *statistical test* and a suitable *significance level*, $\\alpha$.\n",
    "\n",
    "1. The *$p$-value* is defined as the probability, given that the null hypothesis is true, that the result of our statistical test is equal to or greater than the actual observed result.\n",
    "\n",
    "1. The relationship is then called *statistically significant* if the $p$-value is less than the significance level $(p \\leq \\alpha)$.\n",
    "\n",
    "Mathematically we can write this in terms of the null hypothesis, $H_0$, a function of the observed data, the so-called test statistics, $X$, and a particular value $x$,\n",
    "\n",
    "$$p = P(X \\geq x \\mid H_0) \\:\\:\\text{(right tailed event)}$$\n",
    "$$p = P(X \\leq x \\mid H_0) \\:\\:\\text{(left tailed event)}$$"
   ]
  },
  {
   "cell_type": "markdown",
   "metadata": {
    "deletable": true,
    "editable": true
   },
   "source": [
    "### Interpreting $p$-values\n",
    "\n",
    "We must take care when assessing $p$-values and choosing our significance level. The probability of rejecting the null hypothesis given that the null hypothesis is in fact true is given by:\n",
    "\n",
    "$$P(\\text{reject } H_0 \\mid H_0) = P(p \\leq \\alpha \\mid H_0) = \\alpha$$\n",
    "\n",
    "This would be a Type I Error or a False Positive.\n",
    "\n",
    "We could also have a Type II Error or a False Negative, which would be the case of not rejecting the null hypothesis even though the alternative hypothesis is true. This would be given by:\n",
    "\n",
    "$$P(\\text{accept } H_0 \\mid H) = P(p \\geq \\alpha \\mid H) = \\beta$$\n",
    "\n",
    "The **precision** and **recall** metrics that we defined before are also applicable in the case of hypothesis testing. Or we can use **sensitivity** and **specificity**, the difference being that precision and recall are independent of True Negative results and are therefore better suited to many machine learning problems with large datasets.\n",
    "\n",
    "Using the definitions of True Positive (TP), True Negative (TN), False Positive (FP) and False Negative (FN) we can define the relationships between these metrics:\n",
    "\n",
    "$$\\text{precision} = \\frac{\\text{TP}}{\\text{TP} + \\text{FP}}$$\n",
    "\n",
    "$$\\text{recall} = \\frac{\\text{TP}}{\\text{TP} + \\text{FN}} = 1 - \\beta$$\n",
    "\n",
    "$$\\alpha = \\frac{\\text{FP}}{\\text{TN} + \\text{FP}} = 1 - \\text{specificity}$$\n",
    "\n",
    "$$\\beta = \\frac{\\text{FN}}{\\text{TP} + \\text{FN}} = 1 - \\text{sensitivity}$$"
   ]
  },
  {
   "cell_type": "markdown",
   "metadata": {
    "deletable": true,
    "editable": true
   },
   "source": [
    "### Student's $t$-test\n",
    "\n",
    "The $t$-test is a very common method for hypothesis testing. It is based on the $t$-distribution which arises from the sample estimate of the mean of a normally distributed population when the variance of the population is not known.\n",
    "\n",
    "The $t$-test calculates a $t$ score, which in the case of comparing two means is given by:\n",
    "\n",
    "$$t = \\frac{\\bar{X_1} - \\bar{X_2}}{SE_{\\bar{X_1} - \\bar{X_2}}}$$\n",
    "\n",
    "Where $SE$ is the standard error of the particular estimator we are using (the difference of the means in this case).\n",
    "\n",
    "For equal sample size, $n$, and sample variances, $s^2$, this is:\n",
    "\n",
    "$$SE_{\\bar{X_1} - \\bar{X_2}} = \\sqrt{\\frac{s_{X_1}^2 + s_{X_2}^2}{n}}$$\n",
    "\n",
    "Our $t$ score follows the $t$-distribution, however, usually we want to convert this to a probability ($p$-value) by calculating the critical area under the probability density function.\n",
    "\n",
    "*Note:* the same method can be applied to other statistical tests e.g. $\\chi^2$-score, $F$-score, $z$-score etc."
   ]
  },
  {
   "cell_type": "code",
   "execution_count": 26,
   "metadata": {
    "collapsed": false,
    "deletable": true,
    "editable": true
   },
   "outputs": [
    {
     "data": {
      "image/png": "[encoded data removed]",
      "text/plain": [
       "<matplotlib.figure.Figure at 0x115b49ed0>"
      ]
     },
     "metadata": {},
     "output_type": "display_data"
    }
   ],
   "source": [
    "from scipy.stats import t\n",
    "\n",
    "tscore = 2\n",
    "degrees_freedom = 10\n",
    "pval = t.sf(np.abs(tscore), degrees_freedom)*2\n",
    "\n",
    "x = np.linspace(-4, 4)\n",
    "xf = np.linspace(tscore, 4)\n",
    "plt.plot(x, t.pdf(x, degrees_freedom))\n",
    "plt.axvline(x=tscore, ls='--')\n",
    "plt.axvline(x=-tscore, ls='--')\n",
    "plt.fill_between(xf, t.pdf(xf, degrees_freedom), color='orange', alpha=0.5)\n",
    "plt.fill_between(-xf, t.pdf(xf, degrees_freedom), color='orange', alpha=0.5)\n",
    "plt.axis([-4, 4, 0, 0.4])\n",
    "plt.title(\"Student's t-distributionn\\n(p-value = {:.4f} for t = {}, two-tailed, df = {})\" \\\n",
    "          .format(pval, tscore, degrees_freedom));"
   ]
  },
  {
   "cell_type": "markdown",
   "metadata": {
    "deletable": true,
    "editable": true
   },
   "source": [
    "We can go through a simple example here using the Iris Plants Dataset and determining whether there is a statistically significant difference between the sepal widths of the different species. `scipy.stats` provides functions for various statistical tests including a $t$-test and calculates both $t$ scores and $p$-values for us."
   ]
  },
  {
   "cell_type": "code",
   "execution_count": 27,
   "metadata": {
    "collapsed": false,
    "deletable": true,
    "editable": true
   },
   "outputs": [
    {
     "data": {
      "image/png": "[encoded data removed]",
      "text/plain": [
       "<matplotlib.figure.Figure at 0x115329850>"
      ]
     },
     "metadata": {},
     "output_type": "display_data"
    }
   ],
   "source": [
    "from scipy.stats import ttest_ind\n",
    "\n",
    "# Load data\n",
    "iris = sns.load_dataset('iris')\n",
    "species = ['setosa', 'versicolor', 'virginica']\n",
    "feature = 'sepal_width'\n",
    "\n",
    "# Select only N samples from each species\n",
    "N = 20\n",
    "slist = []\n",
    "for s in species:\n",
    "    slist.append(iris[iris['species'] == s].sample(N, random_state=42))\n",
    "iris_sample = pd.concat(slist)\n",
    "\n",
    "# Plot histograms of the petal lengths\n",
    "iris_sample.hist(column=feature, by='species', bins=6,\n",
    "                 sharex=True, figsize=(6, 9), layout=(3, 1), alpha=0.5);"
   ]
  },
  {
   "cell_type": "code",
   "execution_count": 28,
   "metadata": {
    "collapsed": false,
    "deletable": true,
    "editable": true
   },
   "outputs": [
    {
     "data": {
      "text/html": [
       "<div>\n",
       "<style>\n",
       "    .dataframe thead tr:only-child th {\n",
       "        text-align: right;\n",
       "    }\n",
       "\n",
       "    .dataframe thead th {\n",
       "        text-align: left;\n",
       "    }\n",
       "\n",
       "    .dataframe tbody tr th {\n",
       "        vertical-align: top;\n",
       "    }\n",
       "</style>\n",
       "<table border=\"1\" class=\"dataframe\">\n",
       "  <thead>\n",
       "    <tr style=\"text-align: right;\">\n",
       "      <th></th>\n",
       "      <th>count</th>\n",
       "      <th>mean</th>\n",
       "      <th>std</th>\n",
       "      <th>min</th>\n",
       "      <th>25%</th>\n",
       "      <th>50%</th>\n",
       "      <th>75%</th>\n",
       "      <th>max</th>\n",
       "    </tr>\n",
       "    <tr>\n",
       "      <th>species</th>\n",
       "      <th></th>\n",
       "      <th></th>\n",
       "      <th></th>\n",
       "      <th></th>\n",
       "      <th></th>\n",
       "      <th></th>\n",
       "      <th></th>\n",
       "      <th></th>\n",
       "    </tr>\n",
       "  </thead>\n",
       "  <tbody>\n",
       "    <tr>\n",
       "      <th>setosa</th>\n",
       "      <td>20.0</td>\n",
       "      <td>3.365</td>\n",
       "      <td>0.474924</td>\n",
       "      <td>2.3</td>\n",
       "      <td>3.000</td>\n",
       "      <td>3.4</td>\n",
       "      <td>3.625</td>\n",
       "      <td>4.4</td>\n",
       "    </tr>\n",
       "    <tr>\n",
       "      <th>versicolor</th>\n",
       "      <td>20.0</td>\n",
       "      <td>2.735</td>\n",
       "      <td>0.301357</td>\n",
       "      <td>2.2</td>\n",
       "      <td>2.500</td>\n",
       "      <td>2.8</td>\n",
       "      <td>2.925</td>\n",
       "      <td>3.3</td>\n",
       "    </tr>\n",
       "    <tr>\n",
       "      <th>virginica</th>\n",
       "      <td>20.0</td>\n",
       "      <td>2.920</td>\n",
       "      <td>0.366491</td>\n",
       "      <td>2.2</td>\n",
       "      <td>2.725</td>\n",
       "      <td>3.0</td>\n",
       "      <td>3.100</td>\n",
       "      <td>3.8</td>\n",
       "    </tr>\n",
       "  </tbody>\n",
       "</table>\n",
       "</div>"
      ],
      "text/plain": [
       "            count   mean       std  min    25%  50%    75%  max\n",
       "species                                                        \n",
       "setosa       20.0  3.365  0.474924  2.3  3.000  3.4  3.625  4.4\n",
       "versicolor   20.0  2.735  0.301357  2.2  2.500  2.8  2.925  3.3\n",
       "virginica    20.0  2.920  0.366491  2.2  2.725  3.0  3.100  3.8"
      ]
     },
     "execution_count": 28,
     "metadata": {},
     "output_type": "execute_result"
    }
   ],
   "source": [
    "# Group by species and show stats\n",
    "stats = iris_sample.groupby('species')[feature].describe()\n",
    "stats"
   ]
  },
  {
   "cell_type": "code",
   "execution_count": 30,
   "metadata": {
    "collapsed": false,
    "deletable": true,
    "editable": true
   },
   "outputs": [
    {
     "data": {
      "text/html": [
       "<div>\n",
       "<style>\n",
       "    .dataframe thead tr:only-child th {\n",
       "        text-align: right;\n",
       "    }\n",
       "\n",
       "    .dataframe thead th {\n",
       "        text-align: left;\n",
       "    }\n",
       "\n",
       "    .dataframe tbody tr th {\n",
       "        vertical-align: top;\n",
       "    }\n",
       "</style>\n",
       "<table border=\"1\" class=\"dataframe\">\n",
       "  <thead>\n",
       "    <tr style=\"text-align: right;\">\n",
       "      <th></th>\n",
       "      <th>species A</th>\n",
       "      <th>species B</th>\n",
       "      <th>t-score</th>\n",
       "      <th>p-value</th>\n",
       "      <th>p &lt; 0.05</th>\n",
       "    </tr>\n",
       "  </thead>\n",
       "  <tbody>\n",
       "    <tr>\n",
       "      <th>0</th>\n",
       "      <td>setosa</td>\n",
       "      <td>versicolor</td>\n",
       "      <td>5.009092</td>\n",
       "      <td>0.000019</td>\n",
       "      <td>True</td>\n",
       "    </tr>\n",
       "    <tr>\n",
       "      <th>1</th>\n",
       "      <td>setosa</td>\n",
       "      <td>virginica</td>\n",
       "      <td>3.317440</td>\n",
       "      <td>0.002097</td>\n",
       "      <td>True</td>\n",
       "    </tr>\n",
       "    <tr>\n",
       "      <th>2</th>\n",
       "      <td>versicolor</td>\n",
       "      <td>virginica</td>\n",
       "      <td>-1.743687</td>\n",
       "      <td>0.089602</td>\n",
       "      <td>False</td>\n",
       "    </tr>\n",
       "  </tbody>\n",
       "</table>\n",
       "</div>"
      ],
      "text/plain": [
       "    species A   species B   t-score   p-value  p < 0.05\n",
       "0      setosa  versicolor  5.009092  0.000019      True\n",
       "1      setosa   virginica  3.317440  0.002097      True\n",
       "2  versicolor   virginica -1.743687  0.089602     False"
      ]
     },
     "execution_count": 30,
     "metadata": {},
     "output_type": "execute_result"
    }
   ],
   "source": [
    "# Calculate t scores between different species\n",
    "sig_level = 0.05\n",
    "\n",
    "s_dict = {}\n",
    "for s in species:\n",
    "    s_dict[s] = iris_sample[iris_sample['species'] == s][feature]\n",
    "\n",
    "stat_df = []\n",
    "for i in it.combinations(species, 2):\n",
    "    t, p = ttest_ind(s_dict[i[0]], s_dict[i[1]], equal_var=False)\n",
    "    stat_df.append([i[0], i[1], t, p, p < sig_level])\n",
    "\n",
    "pd.DataFrame(stat_df, columns=['species A',\n",
    "                               'species B',\n",
    "                               't-score', 'p-value', 'p < 0.05'.format(sig_level)])"
   ]
  },
  {
   "cell_type": "markdown",
   "metadata": {
    "deletable": true,
    "editable": true
   },
   "source": [
    "We can reject the null hypothesis in the first two cases but not for the last pair.\n",
    "\n",
    "What happens if we adjust the number of samples $N$ or our significance level?"
   ]
  },
  {
   "cell_type": "markdown",
   "metadata": {
    "deletable": true,
    "editable": true
   },
   "source": [
    "### Assumptions for $t$-tests\n",
    "\n",
    "- Our samples are randomly generated from the population\n",
    "- Samples are normally distributed\n",
    "- Sample size is of reasonably large\n",
    "- Means are independent of variance (homoscedastic)"
   ]
  },
  {
   "cell_type": "markdown",
   "metadata": {
    "deletable": true,
    "editable": true
   },
   "source": [
    "## Bayesian Inference"
   ]
  },
  {
   "cell_type": "markdown",
   "metadata": {
    "deletable": true,
    "editable": true
   },
   "source": [
    "### Bayesian statistics vs Frequentist statistics\n",
    "\n",
    "There are two philosophical approaches to how we think about probability and statistics.\n",
    "\n",
    "Example: roll a 6-sided die, what is the probability it will be a 6? And is the die fair?\n",
    "\n",
    "**Frequentist:** \"I will roll the die many times and find the frequency of 6 occurring, this gives my probability\"\n",
    "\n",
    "**Bayesian:** \"I will make an prior assumption that it is likely to be 1/6, I will then update my assumption as I collect more data, my probability is a measure of belief in a proposition\"\n",
    "\n",
    "\n",
    "|                    | Frequentist                                   | Bayesian                                  |\n",
    "|--------------------|:----------------------------------------------|:------------------------------------------|\n",
    "| *Probability*      | Arises from the limiting frequency of event   | Plausibility of a proposition             |\n",
    "| *Model Parameters* | Fixed based on the model                      | Unknown and described probabilistically   |\n",
    "| *Data*             | Taken from repeatable random sampling         | Fixed and observed from realized sample   |\n",
    "| *Prior*            | No prior information on parameters            | Include prior parameter information       |\n",
    "| *Inference*        | Deduction from $P(X \\mid H_0)$      | Induction from $P(\\theta \\mid X)$ using $P(\\theta)$ |"
   ]
  },
  {
   "cell_type": "markdown",
   "metadata": {
    "deletable": true,
    "editable": true
   },
   "source": [
    "### Why Bayes in data science?\n",
    "\n",
    "*Bayesian inference* therefore uses probabilities for both hypotheses and data whereas *Frequentist inference* does not allows us to calculate the probability of a hypothesis being correct.\n",
    "\n",
    "Frequentist inference, and classical hypothesis testing using $p$-values as described above, has been the predominant method in the sciences during the 20th century. However, with the ability to deal with large datasets, machine learning, and more powerful computational methods, Bayesian methods are becoming more popular.\n",
    "\n",
    "\n",
    "Bayesian inference is very useful in data science for the following reasons:\n",
    "\n",
    "1. Even if our dataset is (relatively) small we can use prior information related to our problem e.g. evaluating a new advertising strategy with information about old strategies.\n",
    "1. If we have a very high variance model, we can use priors as a way to regularize the model e.g. in NLP and sentiment analysis.\n",
    "1. We may need an estimate of the likelihood of a particular model parameter especially when dealing with a large number of features."
   ]
  },
  {
   "cell_type": "markdown",
   "metadata": {
    "deletable": true,
    "editable": true
   },
   "source": [
    "### Bayes' theorem\n",
    "\n",
    "Bayes' theorem describes the probability of an event based on prior knowledge of conditions that might be related to the event. Given two events $A$ and $B$, we can write that:\n",
    "\n",
    "$$P(A \\mid B) = \\frac{P(B \\mid A)\\; P(A)}{P(B)}$$\n",
    "\n",
    "In the general case where $A$ is separable into parts, $\\{A_i\\}$, we can write:\n",
    "\n",
    "$$P(A_i \\mid B) = \\frac{P(B \\mid A_i)\\; P(A_i)}{P(B)} = \\frac{P(B \\mid A_i)\\; P(A_i)}{\\sum_{j}{P(B \\mid A_j)\\; P(A_j)}}$$\n",
    "\n",
    "And therefore we can also write a version for continuous random variables and probability distribution functions, $p$. \n",
    "\n",
    "As applied to inference, we are interested in testing a model with parameters, $\\theta$, given a set of observed data points, $X$, and hyperparameters, $\\alpha$.\n",
    "\n",
    "$$p(\\theta \\mid X,\\alpha) = \\frac{p(X \\mid \\theta)\\; p(\\theta \\mid \\alpha)}{\\int{p(X \\mid \\theta^\\prime)\\; p(\\theta^\\prime \\mid \\alpha)\\; \\text{d}\\theta^\\prime}}$$"
   ]
  },
  {
   "cell_type": "markdown",
   "metadata": {
    "collapsed": true,
    "deletable": true,
    "editable": true
   },
   "source": [
    "### Definitions\n",
    "\n",
    "- **Prior Distribution:** The probability of particular parameters without considering any data, $p(\\theta \\mid \\alpha)$\n",
    "- **Posterior Distribution:** The probability of particular parameters given the data, $p(\\theta \\mid X,\\alpha)$\n",
    "- **Likelihood:** The distribution of data conditional on its parameters, $p(X \\mid \\theta)$\n",
    "- **Marginal Likelihood:** The distribution of the observed data marginalized over the parameters, also called the evidence, $p(X \\mid \\alpha)$, and is the denominator in the above expression\n",
    "\n",
    "In other words the posterior distribution is the likelihood multiplied by the prior and correctly normalized."
   ]
  },
  {
   "cell_type": "markdown",
   "metadata": {
    "deletable": true,
    "editable": true
   },
   "source": [
    "### Conjugate priors\n",
    "\n",
    "Generally our likelihood distribution will be well-defined by how we collected our data. However, we can then choose any prior distribution that we want depending on our knowledge of the situation.\n",
    "\n",
    "This means that the integral of $p(X \\mid \\theta^\\prime) p(\\theta^\\prime \\mid \\alpha)$ can very easily become impossible to compute analytically and would require numerical methods. This is one of the major reasons that Bayesian inference was not widely adopted before the advent of the computer.\n",
    "\n",
    "However, for certain choices of prior, called **conjugate priors**, and associated likelihood functions there exist closed-form solutions for the posterior distribution, thus simplifying the algebra that we need to do.\n",
    "\n",
    "Here are some common families of distributions and their conjugate priors:\n",
    "\n",
    "| Likelihood function         | Conjugate Prior (and therefore Posterior)     |\n",
    "|-----------------------------|:----------------------------------------------|\n",
    "| Normal (known $\\sigma^2$)   | Normal                                        |\n",
    "| Normal (known $\\mu$)        | Gamma                                         |\n",
    "| Exponential                 | Gamma                                         |\n",
    "| Bernoulli                   | Beta                                          |\n",
    "| Binomial                    | Beta                                          |\n",
    "| Poisson                     | Gamma                                         |"
   ]
  },
  {
   "cell_type": "markdown",
   "metadata": {
    "deletable": true,
    "editable": true
   },
   "source": [
    "Here is a simple example using data that is a count of the number of successes, $x$, from 6 attempts at a particular event. We expect this to follow a binomial distribution with $n = 6$ therefore we can use:\n",
    "\n",
    "- **Likelihood:** $\\text{binomial}(n,p) \\propto p^x (1-p)^{n-x}$\n",
    "- **Conjugate prior:** $\\text{beta}(\\alpha, \\beta) \\propto p^{\\alpha-1} (1-p)^{\\beta-1}$\n",
    "\n",
    "Since we can just obtain the form of the posterior by multiplying these terms we get:\n",
    "\n",
    "$$\\text{posterior} \\propto p^x (1-p)^{n-x} p^{\\alpha-1} (1-p)^{\\beta-1} \\\\ = p^{x+\\alpha-1} (1-p)^{n-x+\\beta-1}$$\n"
   ]
  },
  {
   "cell_type": "code",
   "execution_count": 31,
   "metadata": {
    "collapsed": false,
    "deletable": true,
    "editable": true
   },
   "outputs": [
    {
     "data": {
      "image/png": "[encoded data removed]",
      "text/plain": [
       "<matplotlib.figure.Figure at 0x115919390>"
      ]
     },
     "metadata": {},
     "output_type": "display_data"
    }
   ],
   "source": [
    "from scipy.stats import binom\n",
    "from scipy.stats import beta\n",
    "\n",
    "data = np.array([2, 4, 3, 3, 1, 4, 1, 4, 3, 3, 0, 5, 4, 1, 1, 1, 2, 2, 2, 2,\n",
    "                 2, 2, 3, 1, 2, 3, 0, 3, 1, 1, 4, 5, 3, 2, 1, 3, 2, 1, 2, 0])\n",
    "\n",
    "n = 6\n",
    "trials = len(data) * n\n",
    "xm = data.mean()\n",
    "xsuccess = data.sum()\n",
    "sns.distplot(data, bins=6, kde=False, label='Data')\n",
    "plt.axvline(x=xm, ls='--')\n",
    "plt.title(\"Probability of success (uniform prior) = {:.4f}\".format(xm / n))\n",
    "plt.xlabel(\"Number of successes \");"
   ]
  },
  {
   "cell_type": "markdown",
   "metadata": {
    "deletable": true,
    "editable": true
   },
   "source": [
    "But what if we want to include a prior?\n",
    "\n",
    "We can choose our beta function depending on information we already have about our problem, for example, let's say that we had performed this experiment several times before and typically obtained a success rate of 5/6. Is our current batch abnormally low? Can we update our prior to give a more realistic estimate of the posterior?"
   ]
  },
  {
   "cell_type": "code",
   "execution_count": 34,
   "metadata": {
    "collapsed": false,
    "deletable": true,
    "editable": true
   },
   "outputs": [],
   "source": [
    "from ipywidgets import *\n",
    "\n",
    "# Previous success rate\n",
    "p = 5. / n\n",
    "\n",
    "def update(prev_trials=100):\n",
    "\n",
    "    # Conjugate Prior\n",
    "    a = p * prev_trials\n",
    "    b = (1 - p) * prev_trials\n",
    "    prior = beta(a, b)\n",
    "\n",
    "    # Calculate Posterior\n",
    "    posterior = beta(xsuccess + a, trials - xsuccess + b)\n",
    "\n",
    "    x = np.arange(0, 1.0, 0.001)\n",
    "    sns.distplot(data / float(n), bins=6, kde=False, label='Data')\n",
    "    plt.axvline(x=xm / n, ls='--')\n",
    "    plt.plot(x, prior.pdf(x), label='Prior')\n",
    "    plt.plot(x, posterior.pdf(x), label='Posterior')\n",
    "    plt.axvline(x=posterior.mean(), c='g', ls='--')\n",
    "    plt.legend()\n",
    "    plt.xlabel(\"Probability of success\")\n",
    "    plt.axis([0, 1, 0, 15])\n",
    "    plt.show()\n",
    "    return"
   ]
  },
  {
   "cell_type": "code",
   "execution_count": 35,
   "metadata": {
    "collapsed": false,
    "deletable": true,
    "editable": true
   },
   "outputs": [
    {
     "data": {
      "application/vnd.jupyter.widget-view+json": {
       "model_id": "18f774412b244c2f8cebda1a584a8555"
      }
     },
     "metadata": {},
     "output_type": "display_data"
    }
   ],
   "source": [
    "widgets.interact(update, prev_trials=[0, 5, 10, 100, 1000]);"
   ]
  },
  {
   "cell_type": "markdown",
   "metadata": {
    "deletable": true,
    "editable": true
   },
   "source": [
    "### Posterior sampling\n",
    "\n",
    "If it is the case that we *cannot* find a suitable conjugate prior then we can instead use *posterior sampling*. Often we do not need the full form of the posterior distribution but only summary statistics about it, for example its mean and variance. Therefore, if we can *exactly sample* from the posterior distribution we can estimate these quantities without resorting to complex numerical integration.\n",
    "\n",
    "A common way to perform this sampling is by using *Monte Carlo Markov Chain* (MCMC) methods such as *Gibbs Sampling*. In MCMC we generate a Markov chain in such as way that the stationary state of the system produces samples with a distribution equal to the distribution we are interested in.\n",
    "\n",
    "We can use the `pymc3` package to do MCMC sampling. Let's apply it to the previous dataset assuming that we do not know about conjugate priors and therefore cannot calculate the posterior directly."
   ]
  },
  {
   "cell_type": "code",
   "execution_count": 36,
   "metadata": {
    "collapsed": false,
    "deletable": true,
    "editable": true
   },
   "outputs": [
    {
     "name": "stdout",
     "output_type": "stream",
     "text": [
      "Optimization terminated successfully.\n",
      "         Current function value: 98.398943\n",
      "         Iterations: 5\n",
      "         Function evaluations: 6\n",
      "         Gradient evaluations: 6\n"
     ]
    },
    {
     "name": "stderr",
     "output_type": "stream",
     "text": [
      "100%|██████████| 5500/5500 [00:01<00:00, 4521.91it/s]\n"
     ]
    }
   ],
   "source": [
    "import pymc3 as pm\n",
    "\n",
    "# Previous success rate and trials\n",
    "p = 5. / n\n",
    "prev_trials = 100\n",
    "\n",
    "# Conjugate Prior\n",
    "a = p * prev_trials\n",
    "b = (1 - p) * prev_trials\n",
    "prior = beta(a, b)\n",
    "\n",
    "# Create a statistical model\n",
    "with pm.Model() as model:\n",
    "\n",
    "    # Generate prior as before\n",
    "    pr = pm.Beta('p', alpha=a, beta=b)\n",
    "\n",
    "    # Likelihood function with our observed dataset with the correct prior\n",
    "    y = pm.Binomial('y', n=n, p=pr, observed=data)\n",
    "\n",
    "    # Use MAP estimate (optimization) as the initial state for the MCMC\n",
    "    start = pm.find_MAP()\n",
    "\n",
    "    # Choose sampler (Metropolis) and run\n",
    "    step = pm.Metropolis()\n",
    "    trace = pm.sample(5000, step, start=start,\n",
    "                      random_seed=42, progressbar=True)"
   ]
  },
  {
   "cell_type": "code",
   "execution_count": 37,
   "metadata": {
    "collapsed": false,
    "deletable": true,
    "editable": true
   },
   "outputs": [
    {
     "data": {
      "image/png": "[encoded data removed]",
      "text/plain": [
       "<matplotlib.figure.Figure at 0x1188ae7d0>"
      ]
     },
     "metadata": {},
     "output_type": "display_data"
    }
   ],
   "source": [
    "x = np.arange(0, 1.0, 0.001)\n",
    "sns.distplot(data / float(n), bins=6, kde=False, label='Data')\n",
    "plt.axvline(x=xm / n, ls='--')\n",
    "\n",
    "plt.plot(x, prior.pdf(x), label='Prior')\n",
    "sns.distplot(trace['p'], bins=20, norm_hist=True, kde=False, label='Posterior')\n",
    "plt.axvline(x=np.mean(trace['p']), c='g', ls='--')\n",
    "plt.legend()\n",
    "plt.xlabel(\"Probability of success\")\n",
    "plt.axis([0, 1, 0, 15]);"
   ]
  },
  {
   "cell_type": "code",
   "execution_count": 38,
   "metadata": {
    "collapsed": false,
    "deletable": true,
    "editable": true
   },
   "outputs": [
    {
     "name": "stdout",
     "output_type": "stream",
     "text": [
      "Success rate based only on our data (MLE) : 37.1 %\n",
      "Prior sucess rate                         : 83.3 %\n",
      "Maximum a posteriori (MAP) success rate   : 50.7 %\n"
     ]
    }
   ],
   "source": [
    "# Summary\n",
    "print \"Success rate based only on our data (MLE) : {:.1f} %\".format(100 * xm / n)\n",
    "print \"Prior sucess rate                         : {:.1f} %\".format(100 * p)\n",
    "print \"Maximum a posteriori (MAP) success rate   : {:.1f} %\".format(100 * np.mean(trace['p']))"
   ]
  },
  {
   "cell_type": "markdown",
   "metadata": {
    "deletable": true,
    "editable": true
   },
   "source": [
    "As expected we get the same result but now our posterior distribution is a sample of 5000 rather than the analytic form derived above, but this approach allows us to use any prior we want (not just conjugate priors). "
   ]
  }
 ],
 "metadata": {
  "kernelspec": {
   "display_name": "Python 2",
   "language": "python",
   "name": "python2"
  },
  "language_info": {
   "codemirror_mode": {
    "name": "ipython",
    "version": 2
   },
   "file_extension": ".py",
   "mimetype": "text/x-python",
   "name": "python",
   "nbconvert_exporter": "python",
   "pygments_lexer": "ipython2",
   "version": "2.7.14"
  },
  "widgets": {
   "application/vnd.jupyter.widget-state+json": {
    "state": {},
    "version_major": 1,
    "version_minor": 0
   }
  }
 },
 "nbformat": 4,
 "nbformat_minor": 2
}
