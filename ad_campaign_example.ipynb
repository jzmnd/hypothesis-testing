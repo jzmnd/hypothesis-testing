{
 "cells": [
  {
   "cell_type": "code",
   "execution_count": 1,
   "metadata": {
    "collapsed": true,
    "deletable": true,
    "editable": true
   },
   "outputs": [],
   "source": [
    "%matplotlib inline"
   ]
  },
  {
   "cell_type": "code",
   "execution_count": 2,
   "metadata": {
    "collapsed": true,
    "deletable": true,
    "editable": true
   },
   "outputs": [],
   "source": [
    "import numpy as np\n",
    "import matplotlib.pyplot as plt\n",
    "import seaborn as sns\n",
    "import pandas as pd\n",
    "import pymc3 as pm\n",
    "from scipy.misc import factorial\n",
    "from scipy.stats import beta\n",
    "from scipy.stats import binom"
   ]
  },
  {
   "cell_type": "code",
   "execution_count": 3,
   "metadata": {
    "collapsed": false,
    "deletable": true,
    "editable": true
   },
   "outputs": [
    {
     "name": "stdout",
     "output_type": "stream",
     "text": [
      "CTR based on the new ad campaign: 70.0 %\n"
     ]
    }
   ],
   "source": [
    "# The number of impressions for our new ad campaign\n",
    "n_impressions = 20\n",
    "# The number of clicks for our new ad campaign\n",
    "n_clicks = 14\n",
    "# Observed click through rate\n",
    "ctr = float(n_clicks) / n_impressions\n",
    "print \"CTR based on the new ad campaign: {} %\".format(ctr * 100)"
   ]
  },
  {
   "cell_type": "code",
   "execution_count": 4,
   "metadata": {
    "collapsed": false,
    "deletable": true,
    "editable": true
   },
   "outputs": [],
   "source": [
    "# 0 to 1, all possible click through rates\n",
    "x = np.arange(0, 1, 0.01)\n",
    "\n",
    "# Evaluate the likelihood function for possible click through rates\n",
    "likelihood = binom.pmf(n_clicks, n_impressions, x)"
   ]
  },
  {
   "cell_type": "code",
   "execution_count": 5,
   "metadata": {
    "collapsed": false,
    "deletable": true,
    "editable": true
   },
   "outputs": [
    {
     "name": "stdout",
     "output_type": "stream",
     "text": [
      "MLE: 70.0 %\n"
     ]
    }
   ],
   "source": [
    "# Pick the best theta (Maximum Likelihood Estimator)\n",
    "mle = x[np.argmax(likelihood)]\n",
    "print \"MLE: {} %\".format(mle * 100)"
   ]
  },
  {
   "cell_type": "code",
   "execution_count": 6,
   "metadata": {
    "collapsed": false,
    "deletable": true,
    "editable": true
   },
   "outputs": [
    {
     "name": "stdout",
     "output_type": "stream",
     "text": [
      "Average past CTR: 20.0416384474 %\n"
     ]
    }
   ],
   "source": [
    "# Randomly generate \"true\" click through rate (CTR) for each past campaign (1 in 5)\n",
    "np.random.seed(42)\n",
    "p = np.random.beta(10, 40, size=100)\n",
    "# Randomly pick the number of impressions for each campaign\n",
    "impressions = np.random.randint(1000, 10000, size=100)\n",
    "# Randomly sample number of clicks for each campaign\n",
    "clicks = np.random.binomial(impressions, p)\n",
    "# Calculate CTR for each past campaign\n",
    "click_through_rates = clicks.astype(np.float) / impressions\n",
    "print \"Average past CTR: {} %\".format(click_through_rates.mean() * 100)"
   ]
  },
  {
   "cell_type": "code",
   "execution_count": 7,
   "metadata": {
    "collapsed": false,
    "deletable": true,
    "editable": true
   },
   "outputs": [
    {
     "data": {
      "image/png": "[encoded data removed]",
      "text/plain": [
       "<matplotlib.figure.Figure at 0x10d41d150>"
      ]
     },
     "metadata": {},
     "output_type": "display_data"
    }
   ],
   "source": [
    "# Plot the histogram of previous click through rates with the evidence of the new campaign\n",
    "f, ax = plt.subplots(1)\n",
    "plt.axvline(mle, ls=\"--\")\n",
    "plt.plot(x, 40 * likelihood, label='Likelihood of CTR for New Campaign')\n",
    "sns.distplot(click_through_rates, kde=False, bins=8,\n",
    "             norm_hist=True, label='Frequency of CTR Historically', color='orange')\n",
    "ax.legend()\n",
    "ax.set_xlabel(\"CTR\")\n",
    "ax.set_title(\"Evidence vs Past Click Through Rates\")\n",
    "ax.set_ylim(0, 11)\n",
    "ax.set_xlim(0, 1);"
   ]
  },
  {
   "cell_type": "code",
   "execution_count": 8,
   "metadata": {
    "collapsed": false,
    "deletable": true,
    "editable": true
   },
   "outputs": [
    {
     "name": "stdout",
     "output_type": "stream",
     "text": [
      "alpha = 10.4265198544, beta = 41.5819431278\n"
     ]
    }
   ],
   "source": [
    "# Fit beta to previous CTRs\n",
    "prior_parameters = beta.fit(click_through_rates, floc=0, fscale=1)\n",
    "# Extract a, b from fit\n",
    "prior_a, prior_b = prior_parameters[0:2]\n",
    "print \"alpha = {}, beta = {}\".format(prior_a, prior_b)"
   ]
  },
  {
   "cell_type": "code",
   "execution_count": 9,
   "metadata": {
    "collapsed": true,
    "deletable": true,
    "editable": true
   },
   "outputs": [],
   "source": [
    "# Define prior distribution sample from prior\n",
    "prior_distribution = beta(prior_a, prior_b)"
   ]
  },
  {
   "cell_type": "code",
   "execution_count": 10,
   "metadata": {
    "collapsed": false,
    "deletable": true,
    "editable": true
   },
   "outputs": [
    {
     "data": {
      "image/png": "[encoded data removed]",
      "text/plain": [
       "<matplotlib.figure.Figure at 0x10d439950>"
      ]
     },
     "metadata": {},
     "output_type": "display_data"
    }
   ],
   "source": [
    "# Plot histogram of prior\n",
    "f, ax = plt.subplots(1)\n",
    "plt.plot(x, prior_distribution.pdf(x),\n",
    "         label='Fitted prior distribution', c='orange')\n",
    "sns.distplot(click_through_rates, kde=False, bins=8, norm_hist=True,\n",
    "             label='Frequency of CTR Historically', color='orange')\n",
    "ax.legend()\n",
    "ax.set_xlabel(\"CTR\")\n",
    "ax.set_title(\"Determining Prior Distribution\")\n",
    "ax.set_ylim(0, 11)\n",
    "ax.set_xlim(0, 1);"
   ]
  },
  {
   "cell_type": "code",
   "execution_count": 11,
   "metadata": {
    "collapsed": false,
    "deletable": true,
    "editable": true
   },
   "outputs": [
    {
     "name": "stdout",
     "output_type": "stream",
     "text": [
      "Optimization terminated successfully.\n",
      "         Current function value: 9.364837\n",
      "         Iterations: 5\n",
      "         Function evaluations: 6\n",
      "         Gradient evaluations: 6\n"
     ]
    },
    {
     "name": "stderr",
     "output_type": "stream",
     "text": [
      "100%|██████████| 5500/5500 [00:03<00:00, 1676.74it/s]\n"
     ]
    }
   ],
   "source": [
    "# Create a statistical model with pymc to perform MCMC\n",
    "with pm.Model() as model:\n",
    "    # Our prior beta distribution\n",
    "    pr = pm.Beta('p', prior_a, prior_b)\n",
    "\n",
    "    # Likelihood function with our observed dataset with the correct prior\n",
    "    y = pm.Binomial('y', n=n_impressions, p=pr, observed=n_clicks)\n",
    "\n",
    "    # Use MAP estimate (optimization) as the initial state for the MCMC\n",
    "    start = pm.find_MAP()\n",
    "\n",
    "    # Choose sampler (No U-Turn Sampler) and run\n",
    "    step = pm.NUTS()\n",
    "    trace = pm.sample(5000, step, start=start,\n",
    "                      random_seed=42, progressbar=True)"
   ]
  },
  {
   "cell_type": "code",
   "execution_count": 12,
   "metadata": {
    "collapsed": false,
    "deletable": true,
    "editable": true
   },
   "outputs": [
    {
     "name": "stdout",
     "output_type": "stream",
     "text": [
      "Most plausible CTR based on the new ad campaign and prior: 33.9  %\n"
     ]
    }
   ],
   "source": [
    "# Take the mean of the samples as most plausible value\n",
    "most_plausible_ctr = np.mean(trace['p'])\n",
    "print \"Most plausible CTR based on the new ad campaign and prior: {:.1f}  %\".format(most_plausible_ctr * 100)"
   ]
  },
  {
   "cell_type": "code",
   "execution_count": 13,
   "metadata": {
    "collapsed": false,
    "deletable": true,
    "editable": true
   },
   "outputs": [
    {
     "data": {
      "image/png": "[encoded data removed]",
      "text/plain": [
       "<matplotlib.figure.Figure at 0x10f721dd0>"
      ]
     },
     "metadata": {},
     "output_type": "display_data"
    }
   ],
   "source": [
    "# Plot\n",
    "f, ax = plt.subplots(1)\n",
    "plt.axvline(mle, ls=\"--\")\n",
    "plt.plot(x, 40 * likelihood, label='Likelihood of CTR for New Campaign')\n",
    "plt.plot(x, prior_distribution.pdf(x), label='Prior distribution', c='orange')\n",
    "sns.distplot(click_through_rates, kde=False, bins=8,\n",
    "             norm_hist=True, label='Frequency of CTR Historically', color='orange')\n",
    "sns.distplot(trace['p'], kde=False, norm_hist=True,\n",
    "             bins=20, label='Posterior Probability CTR', color='g')\n",
    "plt.axvline(most_plausible_ctr, ls=\"--\", c='g')\n",
    "ax.legend()\n",
    "ax.set_xlabel(\"CTR\")\n",
    "ax.set_title(\"Prior Distribution Updated with Some Evidence\")\n",
    "ax.set_ylim(0, 16)\n",
    "ax.set_xlim(0, 1);"
   ]
  },
  {
   "cell_type": "code",
   "execution_count": 16,
   "metadata": {
    "collapsed": false,
    "deletable": true,
    "editable": true
   },
   "outputs": [
    {
     "name": "stdout",
     "output_type": "stream",
     "text": [
      "CTR based only on the new ad campaign (MLE): 70.0 %\n",
      "\n",
      "Average past CTR: 20.0416384474 %\n",
      " - Prior: alpha = 10.4265198544, beta = 41.5819431278\n",
      "\n",
      "Most plausible CTR based on the new ad campaign and prior (MAP): 33.9  %\n"
     ]
    }
   ],
   "source": [
    "# In summary\n",
    "print \"CTR based only on the new ad campaign (MLE): {} %\\n\".format(ctr * 100)\n",
    "print \"Average past CTR: {} %\".format(click_through_rates.mean() * 100)\n",
    "print \" - Prior: alpha = {}, beta = {}\\n\".format(prior_a, prior_b)\n",
    "print \"Most plausible CTR based on the new ad campaign and prior (MAP): {:.1f}  %\".format(most_plausible_ctr * 100)"
   ]
  },
  {
   "cell_type": "code",
   "execution_count": null,
   "metadata": {
    "collapsed": true
   },
   "outputs": [],
   "source": []
  }
 ],
 "metadata": {
  "kernelspec": {
   "display_name": "Python 2",
   "language": "python",
   "name": "python2"
  },
  "language_info": {
   "codemirror_mode": {
    "name": "ipython",
    "version": 2
   },
   "file_extension": ".py",
   "mimetype": "text/x-python",
   "name": "python",
   "nbconvert_exporter": "python",
   "pygments_lexer": "ipython2",
   "version": "2.7.14"
  }
 },
 "nbformat": 4,
 "nbformat_minor": 2
}
